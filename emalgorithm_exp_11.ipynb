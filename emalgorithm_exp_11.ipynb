{
  "nbformat": 4,
  "nbformat_minor": 0,
  "metadata": {
    "colab": {
      "provenance": [],
      "authorship_tag": "ABX9TyPglcNi/UvQY3BoMTloYvZ6",
      "include_colab_link": true
    },
    "kernelspec": {
      "name": "python3",
      "display_name": "Python 3"
    },
    "language_info": {
      "name": "python"
    }
  },
  "cells": [
    {
      "cell_type": "markdown",
      "metadata": {
        "id": "view-in-github",
        "colab_type": "text"
      },
      "source": [
        "<a href=\"https://colab.research.google.com/github/YarragorlaKiranmayee/Machinelearning-Lab/blob/main/emalgorithm_exp_11.ipynb\" target=\"_parent\"><img src=\"https://colab.research.google.com/assets/colab-badge.svg\" alt=\"Open In Colab\"/></a>"
      ]
    },
    {
      "cell_type": "code",
      "execution_count": null,
      "metadata": {
        "colab": {
          "base_uri": "https://localhost:8080/"
        },
        "id": "NauwhYeMKdT7",
        "outputId": "d5c6a410-33ec-4cf0-c6c2-ddda69da2810"
      },
      "outputs": [
        {
          "output_type": "stream",
          "name": "stdout",
          "text": [
            "K-Means Silhouette Score: 0.5340\n",
            "EM (GMM) Silhouette Score: 0.5340\n",
            "   KMeans_Cluster  EM_Cluster\n",
            "0               0           0\n",
            "1               0           0\n",
            "2               1           1\n",
            "3               0           0\n",
            "4               1           1\n"
          ]
        }
      ],
      "source": [
        "import pandas as pd\n",
        "import numpy as np\n",
        "from sklearn.cluster import KMeans\n",
        "from sklearn.mixture import GaussianMixture\n",
        "from sklearn.preprocessing import StandardScaler\n",
        "from sklearn.metrics import silhouette_score\n",
        "\n",
        "# Load the heart disease dataset\n",
        "data = pd.read_csv(\"heart_disease.csv\")\n",
        "\n",
        "# Select relevant features for clustering\n",
        "features = data[['age', 'cholesterol', 'blood_pressure', 'max_heart_rate']]  # Example features\n",
        "\n",
        "# Normalize the data for better clustering\n",
        "scaler = StandardScaler()\n",
        "scaled_features = scaler.fit_transform(features)\n",
        "\n",
        "# Apply K-Means clustering\n",
        "kmeans = KMeans(n_clusters=2, random_state=42)\n",
        "kmeans_labels = kmeans.fit_predict(scaled_features)\n",
        "\n",
        "# Apply EM algorithm (Gaussian Mixture Model)\n",
        "gmm = GaussianMixture(n_components=2, random_state=42)\n",
        "gmm_labels = gmm.fit_predict(scaled_features)\n",
        "\n",
        "# Evaluate clustering quality using silhouette score\n",
        "kmeans_score = silhouette_score(scaled_features, kmeans_labels)\n",
        "gmm_score = silhouette_score(scaled_features, gmm_labels)\n",
        "\n",
        "# Print results\n",
        "print(f\"K-Means Silhouette Score: {kmeans_score:.4f}\")\n",
        "print(f\"EM (GMM) Silhouette Score: {gmm_score:.4f}\")\n",
        "\n",
        "# Compare cluster assignments\n",
        "data['KMeans_Cluster'] = kmeans_labels\n",
        "data['EM_Cluster'] = gmm_labels\n",
        "print(data[['KMeans_Cluster', 'EM_Cluster']].head())"
      ]
    }
  ]
}