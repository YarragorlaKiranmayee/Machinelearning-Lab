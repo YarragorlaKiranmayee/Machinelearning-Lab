{
  "nbformat": 4,
  "nbformat_minor": 0,
  "metadata": {
    "colab": {
      "provenance": [],
      "authorship_tag": "ABX9TyORBjEV7h7tJWQoSExj+6Cu",
      "include_colab_link": true
    },
    "kernelspec": {
      "name": "python3",
      "display_name": "Python 3"
    },
    "language_info": {
      "name": "python"
    }
  },
  "cells": [
    {
      "cell_type": "markdown",
      "metadata": {
        "id": "view-in-github",
        "colab_type": "text"
      },
      "source": [
        "<a href=\"https://colab.research.google.com/github/YarragorlaKiranmayee/Machinelearning-Lab/blob/main/naivebayes_ap_exp_10.ipynb\" target=\"_parent\"><img src=\"https://colab.research.google.com/assets/colab-badge.svg\" alt=\"Open In Colab\"/></a>"
      ]
    },
    {
      "cell_type": "code",
      "execution_count": 1,
      "metadata": {
        "colab": {
          "base_uri": "https://localhost:8080/"
        },
        "id": "s7km333rJscu",
        "outputId": "caba0ec1-4aa5-4608-ad9c-05ed728d4786"
      },
      "outputs": [
        {
          "output_type": "stream",
          "name": "stdout",
          "text": [
            "Total Instances of Dataset:  18\n",
            "   about  am  an  and  awesome  bad  beers  best  boss  can  ...  these  this  \\\n",
            "0      0   0   0    0        0    0      0     0     0    0  ...      0     1   \n",
            "1      0   0   0    0        0    0      0     0     0    0  ...      0     0   \n",
            "2      0   0   0    0        0    0      0     0     0    0  ...      0     0   \n",
            "3      0   0   0    0        0    0      0     0     0    0  ...      0     0   \n",
            "4      0   0   1    0        1    0      0     0     0    0  ...      0     1   \n",
            "\n",
            "   tired  to  today  very  went  what  with  work  \n",
            "0      0   0      0     0     0     0     0     0  \n",
            "1      0   1      0     0     0     0     0     0  \n",
            "2      0   1      1     0     1     0     0     0  \n",
            "3      0   0      0     0     0     1     0     0  \n",
            "4      0   0      0     0     0     0     0     0  \n",
            "\n",
            "[5 rows x 46 columns]\n",
            "I love this sandwich -> pos\n",
            "I love to dance -> pos\n",
            "I went to my enemy's house today -> pos\n",
            "What a great holiday -> neg\n",
            "This is an awesome place -> neg\n",
            "\n",
            "\n",
            "Accuracy Metrics:\n",
            "Accuracy:  1.0\n",
            "Recall:  1.0\n",
            "Precision:  1.0\n",
            "Confusion Matrix: \n",
            " [[2 0]\n",
            " [0 3]]\n"
          ]
        }
      ],
      "source": [
        "# Import necessary libraries\n",
        "from IPython import get_ipython\n",
        "from IPython.display import display\n",
        "import pandas as pd\n",
        "from sklearn.model_selection import train_test_split\n",
        "from sklearn.feature_extraction.text import CountVectorizer\n",
        "from sklearn.naive_bayes import MultinomialNB\n",
        "from sklearn.metrics import accuracy_score, confusion_matrix, precision_score, recall_score\n",
        "\n",
        "# Load the dataset\n",
        "msg = pd.read_csv('document.csv', names=['message', 'label'])\n",
        "print(\"Total Instances of Dataset: \", msg.shape[0])\n",
        "\n",
        "# Create numerical labels for sentiment (pos=1, neg=0)\n",
        "msg['labelnum'] = msg.label.map({'pos': 1, 'neg': 0})\n",
        "\n",
        "# Split data into training and testing sets\n",
        "X = msg.message\n",
        "y = msg.labelnum\n",
        "Xtrain, Xtest, ytrain, ytest = train_test_split(X, y)\n",
        "\n",
        "# Create a document-term matrix using CountVectorizer\n",
        "count_v = CountVectorizer()\n",
        "Xtrain_dm = count_v.fit_transform(Xtrain)\n",
        "Xtest_dm = count_v.transform(Xtest)\n",
        "df = pd.DataFrame(Xtrain_dm.toarray(), columns=count_v.get_feature_names_out())\n",
        "print(df[0:5])\n",
        "\n",
        "# Train a Naive Bayes classifier\n",
        "clf = MultinomialNB()\n",
        "clf.fit(Xtrain_dm, ytrain)\n",
        "\n",
        "# Make predictions on the test set\n",
        "pred = clf.predict(Xtest_dm)\n",
        "\n",
        "# Print predictions for training data\n",
        "for doc, p in zip(Xtrain, pred):\n",
        "    p = 'pos' if p == 1 else 'neg'\n",
        "    print(\"%s -> %s\" % (doc, p))\n",
        "\n",
        "# Evaluate the model's performance\n",
        "print('\\n')\n",
        "print('Accuracy Metrics:')\n",
        "print('Accuracy: ', accuracy_score(ytest, pred))\n",
        "print('Recall: ', recall_score(ytest, pred))\n",
        "print('Precision: ', precision_score(ytest, pred))\n",
        "print('Confusion Matrix: \\n', confusion_matrix(ytest, pred))"
      ]
    }
  ]
}